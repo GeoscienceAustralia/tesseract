{
 "metadata": {
  "name": ""
 },
 "nbformat": 3,
 "nbformat_minor": 0,
 "worksheets": [
  {
   "cells": [
    {
     "cell_type": "markdown",
     "metadata": {},
     "source": [
      "The following tests looked at a few different file formats namely `HDF5`, `GeoTIFF`, and `ENVI` (`hdr` formatted). The read tests were performed against a the a time series of the `Photsynthetic Vegetation (PV)` fractional cover band.\n",
      "\n",
      "The two GeoTIFF files differ by interleave; either `BIP` or `BSQ` and both were compressed using LZW. The `BSQ` GTiff used the same tile/chunk size as that used for the `HDF5 BSQ` file which was (100, 4000) i.e. 100 rows by 4000 columns.\n",
      "\n",
      "The `ENVI` files were uncompressed as `GDAL` currently doesn't support compressed `ENVI` files. 3 different interleaves were created, `BSQ`, `BIL` and `BIP`. Compressed versions were created and an example of how to read the first band of the `BSQ` file is demonstarted at the end using the `gzip` `Python` module."
     ]
    },
    {
     "cell_type": "code",
     "collapsed": false,
     "input": [
      "import numpy\n",
      "import h5py\n",
      "import pandas\n",
      "import sys\n",
      "sys.path.append('/home/547/jps547/git_repositories/sixy6e/tesseract/core/')\n",
      "from tessera2 import TesseraDatasets\n",
      "from osgeo import gdal\n",
      "import rasterio\n",
      "import gzip"
     ],
     "language": "python",
     "metadata": {},
     "outputs": [],
     "prompt_number": 1
    },
    {
     "cell_type": "code",
     "collapsed": false,
     "input": [
      "envi_bil_fname = '/g/data/v10/testing_ground/jps547/file_tests/envi_file_tests/bil_envi'\n",
      "envi_bip_fname = '/g/data/v10/testing_ground/jps547/file_tests/envi_file_tests/bip_envi'\n",
      "envi_bsq_fname = '/g/data/v10/testing_ground/jps547/file_tests/envi_file_tests/bsq_envi'"
     ],
     "language": "python",
     "metadata": {},
     "outputs": [],
     "prompt_number": 2
    },
    {
     "cell_type": "code",
     "collapsed": false,
     "input": [
      "tif_bip_compressed_fname = '/g/data/v10/testing_ground/jps547/file_tests/tif_file_tests/bip_compressed.tif'\n",
      "tif_bsq_compressed_fname = '/g/data/v10/testing_ground/jps547/file_tests/tif_file_tests/bsq_compressed.tif'"
     ],
     "language": "python",
     "metadata": {},
     "outputs": [],
     "prompt_number": 3
    },
    {
     "cell_type": "code",
     "collapsed": false,
     "input": [
      "h5_bil_fname = '/g/data/v10/testing_ground/jps547/file_tests/hdf5/bil_file.h5'\n",
      "h5_bsq_fname = '/g/data/v10/testing_ground/jps547/file_tests/hdf5/bsq_file.h5'"
     ],
     "language": "python",
     "metadata": {},
     "outputs": [],
     "prompt_number": 4
    },
    {
     "cell_type": "code",
     "collapsed": false,
     "input": [
      "envi_bil_ds = gdal.Open(envi_bil_fname)\n",
      "envi_bip_ds = gdal.Open(envi_bip_fname)\n",
      "envi_bsq_ds = gdal.Open(envi_bsq_fname)"
     ],
     "language": "python",
     "metadata": {},
     "outputs": [],
     "prompt_number": 5
    },
    {
     "cell_type": "code",
     "collapsed": false,
     "input": [
      "tif_bip_compressed_ds = gdal.Open(tif_bip_compressed_fname)\n",
      "tif_bsq_compressed_ds = gdal.Open(tif_bsq_compressed_fname)"
     ],
     "language": "python",
     "metadata": {},
     "outputs": [],
     "prompt_number": 6
    },
    {
     "cell_type": "code",
     "collapsed": false,
     "input": [
      "h5_bil = TesseraDatasets(h5_bil_fname)\n",
      "h5_bsq = TesseraDatasets(h5_bsq_fname)"
     ],
     "language": "python",
     "metadata": {},
     "outputs": [],
     "prompt_number": 7
    },
    {
     "cell_type": "code",
     "collapsed": false,
     "input": [
      "xsize = 3634 - 2478\n",
      "ysize = 2956 - 1478\n",
      "print \"xsize: {}\".format(xsize)\n",
      "print \"ysize: {}\".format(ysize)"
     ],
     "language": "python",
     "metadata": {},
     "outputs": [
      {
       "output_type": "stream",
       "stream": "stdout",
       "text": [
        "xsize: 1156\n",
        "ysize: 1478\n"
       ]
      }
     ],
     "prompt_number": 8
    },
    {
     "cell_type": "heading",
     "level": 2,
     "metadata": {},
     "source": [
      "Read performance tests"
     ]
    },
    {
     "cell_type": "heading",
     "level": 4,
     "metadata": {},
     "source": [
      "HDF5 format Spatial tests"
     ]
    },
    {
     "cell_type": "code",
     "collapsed": false,
     "input": [
      "%timeit -n 1 h5_bsq.dsets['PV'][66, 1478:2956, 2478:3634]"
     ],
     "language": "python",
     "metadata": {},
     "outputs": [
      {
       "output_type": "stream",
       "stream": "stdout",
       "text": [
        "1 loops, best of 3: 22.5 ms per loop\n"
       ]
      }
     ],
     "prompt_number": 9
    },
    {
     "cell_type": "code",
     "collapsed": false,
     "input": [
      "%timeit -n 1 h5_bil.dsets['PV'][66, 1478:2956, 2478:3634]"
     ],
     "language": "python",
     "metadata": {},
     "outputs": [
      {
       "output_type": "stream",
       "stream": "stdout",
       "text": [
        "1 loops, best of 3: 6.13 s per loop\n"
       ]
      }
     ],
     "prompt_number": 10
    },
    {
     "cell_type": "heading",
     "level": 4,
     "metadata": {},
     "source": [
      "GeoTIFF format Spatial tests"
     ]
    },
    {
     "cell_type": "code",
     "collapsed": false,
     "input": [
      "%timeit -n 1 tif_bip_compressed_ds.GetRasterBand(66).ReadAsArray(2478, 1478, xsize, ysize)"
     ],
     "language": "python",
     "metadata": {},
     "outputs": [
      {
       "output_type": "stream",
       "stream": "stdout",
       "text": [
        "1 loops, best of 3: 487 \u00b5s per loop\n"
       ]
      }
     ],
     "prompt_number": 11
    },
    {
     "cell_type": "code",
     "collapsed": false,
     "input": [
      "%timeit -n 1 tif_bsq_compressed_ds.GetRasterBand(66).ReadAsArray(2478, 1478, xsize, ysize)"
     ],
     "language": "python",
     "metadata": {},
     "outputs": [
      {
       "output_type": "stream",
       "stream": "stdout",
       "text": [
        "1 loops, best of 3: 327 \u00b5s per loop\n"
       ]
      }
     ],
     "prompt_number": 12
    },
    {
     "cell_type": "heading",
     "level": 4,
     "metadata": {},
     "source": [
      "ENVI format Spatial tests"
     ]
    },
    {
     "cell_type": "code",
     "collapsed": false,
     "input": [
      "%timeit -n 1 envi_bsq_ds.GetRasterBand(66).ReadAsArray(2478, 1478, xsize, ysize)"
     ],
     "language": "python",
     "metadata": {},
     "outputs": [
      {
       "output_type": "stream",
       "stream": "stdout",
       "text": [
        "1 loops, best of 3: 505 \u00b5s per loop\n"
       ]
      }
     ],
     "prompt_number": 13
    },
    {
     "cell_type": "code",
     "collapsed": false,
     "input": [
      "%timeit -n 1 envi_bil_ds.GetRasterBand(66).ReadAsArray(2478, 1478, xsize, ysize)"
     ],
     "language": "python",
     "metadata": {},
     "outputs": [
      {
       "output_type": "stream",
       "stream": "stdout",
       "text": [
        "1 loops, best of 3: 484 \u00b5s per loop\n"
       ]
      }
     ],
     "prompt_number": 14
    },
    {
     "cell_type": "code",
     "collapsed": false,
     "input": [
      "%timeit -n 1 envi_bip_ds.GetRasterBand(66).ReadAsArray(2478, 1478, xsize, ysize)"
     ],
     "language": "python",
     "metadata": {},
     "outputs": [
      {
       "output_type": "stream",
       "stream": "stdout",
       "text": [
        "1 loops, best of 3: 2.1 s per loop\n"
       ]
      }
     ],
     "prompt_number": 15
    },
    {
     "cell_type": "heading",
     "level": 4,
     "metadata": {},
     "source": [
      "HDF5 format z-axis tests"
     ]
    },
    {
     "cell_type": "code",
     "collapsed": false,
     "input": [
      "%timeit -n 1 h5_bil.dsets['PV'][:, 666, 666]"
     ],
     "language": "python",
     "metadata": {},
     "outputs": [
      {
       "output_type": "stream",
       "stream": "stdout",
       "text": [
        "1 loops, best of 3: 4.1 ms per loop\n"
       ]
      }
     ],
     "prompt_number": 16
    },
    {
     "cell_type": "code",
     "collapsed": false,
     "input": [
      "%timeit -n 1 h5_bsq.dsets['PV'][:, 666, 666]"
     ],
     "language": "python",
     "metadata": {},
     "outputs": [
      {
       "output_type": "stream",
       "stream": "stdout",
       "text": [
        "1 loops, best of 3: 386 ms per loop\n"
       ]
      }
     ],
     "prompt_number": 17
    },
    {
     "cell_type": "heading",
     "level": 4,
     "metadata": {},
     "source": [
      "GeoTIFF format z-axis tests"
     ]
    },
    {
     "cell_type": "code",
     "collapsed": false,
     "input": [
      "%timeit -n 1 tif_bip_compressed_ds.ReadAsArray(666, 666, 1, 1)"
     ],
     "language": "python",
     "metadata": {},
     "outputs": [
      {
       "output_type": "stream",
       "stream": "stdout",
       "text": [
        "1 loops, best of 3: 2.33 ms per loop\n"
       ]
      }
     ],
     "prompt_number": 18
    },
    {
     "cell_type": "code",
     "collapsed": false,
     "input": [
      "%timeit -n 1 tif_bsq_compressed_ds.ReadAsArray(666, 666, 1, 1)"
     ],
     "language": "python",
     "metadata": {},
     "outputs": [
      {
       "output_type": "stream",
       "stream": "stdout",
       "text": [
        "1 loops, best of 3: 1.24 s per loop\n"
       ]
      }
     ],
     "prompt_number": 19
    },
    {
     "cell_type": "heading",
     "level": 4,
     "metadata": {},
     "source": [
      "ENVI format z-axis tests"
     ]
    },
    {
     "cell_type": "code",
     "collapsed": false,
     "input": [
      "%timeit -n 1 envi_bsq_ds.ReadAsArray(666, 666, 1, 1)"
     ],
     "language": "python",
     "metadata": {},
     "outputs": [
      {
       "output_type": "stream",
       "stream": "stdout",
       "text": [
        "1 loops, best of 3: 2.56 ms per loop\n"
       ]
      }
     ],
     "prompt_number": 20
    },
    {
     "cell_type": "code",
     "collapsed": false,
     "input": [
      "%timeit -n 1 envi_bil_ds.ReadAsArray(666, 666, 1, 1)"
     ],
     "language": "python",
     "metadata": {},
     "outputs": [
      {
       "output_type": "stream",
       "stream": "stdout",
       "text": [
        "1 loops, best of 3: 2.63 ms per loop\n"
       ]
      }
     ],
     "prompt_number": 21
    },
    {
     "cell_type": "code",
     "collapsed": false,
     "input": [
      "%timeit -n 1 envi_bip_ds.ReadAsArray(666, 666, 1, 1)"
     ],
     "language": "python",
     "metadata": {},
     "outputs": [
      {
       "output_type": "stream",
       "stream": "stdout",
       "text": [
        "1 loops, best of 3: 2.72 ms per loop\n"
       ]
      }
     ],
     "prompt_number": 22
    },
    {
     "cell_type": "heading",
     "level": 2,
     "metadata": {},
     "source": [
      "Compressed ENVI format files"
     ]
    },
    {
     "cell_type": "markdown",
     "metadata": {},
     "source": [
      "`GDAL` currently is not able to read compressed `ENVI` format files. But there are other ways to read the data. The compressed `ENVI` formatted files were created as normal with `GDAL` and then compressed using `gzip`. The associated `header (.hdr)` file was then modified with an additional parameter `compressed = 1` to indicate that the raw binary files is compressed.\n",
      "\n",
      "To confirm that the data is the same, we'll read the first band of the uncompressed file using `GDAL` and the compressed version using `gzip`. As a further sanity check, we'll also read the uncompressed version using `Python's` `open` utility."
     ]
    },
    {
     "cell_type": "code",
     "collapsed": false,
     "input": [
      "bsq_gz = gzip.open('/g/data/v10/testing_ground/jps547/file_tests/envi_file_tests/bsq_envi_compressed', 'rb')"
     ],
     "language": "python",
     "metadata": {},
     "outputs": [],
     "prompt_number": 23
    },
    {
     "cell_type": "code",
     "collapsed": false,
     "input": [
      "img = numpy.zeros((4000, 4000), dtype='int16')\n",
      "bsq_gz.readinto(img)"
     ],
     "language": "python",
     "metadata": {},
     "outputs": [
      {
       "metadata": {},
       "output_type": "pyout",
       "prompt_number": 24,
       "text": [
        "32000000L"
       ]
      }
     ],
     "prompt_number": 24
    },
    {
     "cell_type": "code",
     "collapsed": false,
     "input": [
      "img.mean()"
     ],
     "language": "python",
     "metadata": {},
     "outputs": [
      {
       "metadata": {},
       "output_type": "pyout",
       "prompt_number": 25,
       "text": [
        "-914.00693049999995"
       ]
      }
     ],
     "prompt_number": 25
    },
    {
     "cell_type": "code",
     "collapsed": false,
     "input": [
      "img2 = envi_bsq_ds.GetRasterBand(1).ReadAsArray()"
     ],
     "language": "python",
     "metadata": {},
     "outputs": [],
     "prompt_number": 26
    },
    {
     "cell_type": "code",
     "collapsed": false,
     "input": [
      "img2.mean()"
     ],
     "language": "python",
     "metadata": {},
     "outputs": [
      {
       "metadata": {},
       "output_type": "pyout",
       "prompt_number": 27,
       "text": [
        "-914.00693049999995"
       ]
      }
     ],
     "prompt_number": 27
    },
    {
     "cell_type": "code",
     "collapsed": false,
     "input": [
      "bsq_raw = open(envi_bsq_fname, 'rb')"
     ],
     "language": "python",
     "metadata": {},
     "outputs": [],
     "prompt_number": 28
    },
    {
     "cell_type": "code",
     "collapsed": false,
     "input": [
      "img3 = numpy.zeros((4000, 4000), dtype='int16')\n",
      "bsq_raw.readinto(img3)"
     ],
     "language": "python",
     "metadata": {},
     "outputs": [
      {
       "metadata": {},
       "output_type": "pyout",
       "prompt_number": 29,
       "text": [
        "32000000"
       ]
      }
     ],
     "prompt_number": 29
    },
    {
     "cell_type": "code",
     "collapsed": false,
     "input": [
      "img3.mean()"
     ],
     "language": "python",
     "metadata": {},
     "outputs": [
      {
       "metadata": {},
       "output_type": "pyout",
       "prompt_number": 30,
       "text": [
        "-914.00693049999995"
       ]
      }
     ],
     "prompt_number": 30
    },
    {
     "cell_type": "code",
     "collapsed": false,
     "input": [
      "bsq_gz.close()\n",
      "bsq_raw.close()"
     ],
     "language": "python",
     "metadata": {},
     "outputs": [],
     "prompt_number": 31
    },
    {
     "cell_type": "code",
     "collapsed": false,
     "input": [],
     "language": "python",
     "metadata": {},
     "outputs": []
    }
   ],
   "metadata": {}
  }
 ]
}