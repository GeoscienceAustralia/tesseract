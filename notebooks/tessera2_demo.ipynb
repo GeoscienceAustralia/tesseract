{
 "metadata": {
  "name": ""
 },
 "nbformat": 3,
 "nbformat_minor": 0,
 "worksheets": [
  {
   "cells": [
    {
     "cell_type": "heading",
     "level": 1,
     "metadata": {},
     "source": [
      "`TesseraDatasets` overview."
     ]
    },
    {
     "cell_type": "markdown",
     "metadata": {},
     "source": [
      "I've drafted a very quick container to hold collections of imagery. It's very basic in design, only holding key information such the projection and geometric transform. In these examples I'm dealing with collections of datasets across time, so time is the other key piece of information.\n",
      "\n",
      "Each `dataset` must have the same dimensions as every other `dataset` contained within the collection. This allows us to conform to the OGC Grid standard. We're also only dealing with 3D arrays, so array indexing is kept simple.\n",
      "\n",
      "If we think of the file as a directory structure, the top directory is the file itself and underneath there are only 2 directories: `metadata` & `data`. \n",
      "\n",
      "`samples`, `lines`, `projection`, `geotransform` are just attributes attached to the `timestamps` and describe the overall shape of the container.\n",
      "\n",
      "* bsq_test.h5\n",
      "    - metadata\n",
      "        - timestamps\n",
      "        - samples\n",
      "        - lines\n",
      "        - projection\n",
      "        - geotransform\n",
      "    - data\n",
      "        - BLUE\n",
      "        - GREEN\n",
      "        - RED\n",
      "        - NEAR_INFRARED\n",
      "        - SHORT_WAVE_INFRARED_1\n",
      "        - SHORT_WAVE_INFRARED_2\n",
      "        - BS\n",
      "        - PV\n",
      "        - NPV\n",
      "        - ERROR\n",
      "        - PQ\n",
      "\n",
      "The `TesseraDatasets` abstracts this away (only slightly), in order to setup easy access to the `datasets` contained under `data` and allow easy access to generate indices across the time axis.\n",
      "\n",
      "You can access the `TessaraDatasets` code at https://github.com/sixy6e/tesseract/blob/josh-test/core/tessera2.py\n",
      "\n",
      "The code to write the hdf5 files can be accessed at https://github.com/sixy6e/tesseract/blob/josh-test/core/dcube2hdf5.py"
     ]
    },
    {
     "cell_type": "code",
     "collapsed": false,
     "input": [
      "import numpy\n",
      "import h5py\n",
      "import pandas\n",
      "import sys\n",
      "sys.path.append('/home/547/jps547/git_repositories/sixy6e/tesseract/core/')\n",
      "from tessera2 import TesseraDatasets\n",
      "from eotools.tiling import generate_tiles"
     ],
     "language": "python",
     "metadata": {},
     "outputs": [],
     "prompt_number": 1
    },
    {
     "cell_type": "markdown",
     "metadata": {},
     "source": [
      "I've created two different chunking levels. One that simulates a band interleaved by line (bil) and a band sequential (bsq). I've written both forms so that they preserve the array dimension order as (z, y, x).  One could also play with the re-ordering of the dimensions to truly get a bsq, bil and band interleaved by pixel (bip); (z, y, x), (y, z, x), (y, x, z); but the user needs to take that into consideration as that is how the dimensional ordering of the array will will be returned. One could write something over the top to re-order as the user sees fit, and this will potentially increase read times and memory use."
     ]
    },
    {
     "cell_type": "code",
     "collapsed": false,
     "input": [
      "bsq_fname = '/g/data/v10/testing_ground/jps547/hdf5/bsq_file.h5'\n",
      "bil_fname = '/g/data/v10/testing_ground/jps547/hdf5/bil_file.h5'"
     ],
     "language": "python",
     "metadata": {},
     "outputs": [],
     "prompt_number": 2
    },
    {
     "cell_type": "markdown",
     "metadata": {},
     "source": [
      "Initialise the `TesseraDatasets`"
     ]
    },
    {
     "cell_type": "code",
     "collapsed": false,
     "input": [
      "td_bsq = TesseraDatasets(bsq_fname)\n",
      "td_bil = TesseraDatasets(bil_fname)"
     ],
     "language": "python",
     "metadata": {},
     "outputs": [],
     "prompt_number": 3
    },
    {
     "cell_type": "markdown",
     "metadata": {},
     "source": [
      "A quick look at the `TesseraDatasets` object."
     ]
    },
    {
     "cell_type": "code",
     "collapsed": false,
     "input": [
      "dir(td_bsq)"
     ],
     "language": "python",
     "metadata": {},
     "outputs": [
      {
       "metadata": {},
       "output_type": "pyout",
       "prompt_number": 4,
       "text": [
        "['__class__',\n",
        " '__delattr__',\n",
        " '__dict__',\n",
        " '__doc__',\n",
        " '__format__',\n",
        " '__getattribute__',\n",
        " '__hash__',\n",
        " '__init__',\n",
        " '__module__',\n",
        " '__new__',\n",
        " '__reduce__',\n",
        " '__reduce_ex__',\n",
        " '__repr__',\n",
        " '__setattr__',\n",
        " '__sizeof__',\n",
        " '__str__',\n",
        " '__subclasshook__',\n",
        " '__weakref__',\n",
        " 'container',\n",
        " 'dsets',\n",
        " 'fname',\n",
        " 'geotransform',\n",
        " 'lines',\n",
        " 'metadata',\n",
        " 'projection',\n",
        " 'samples',\n",
        " 'time_slices',\n",
        " 'timestamps']"
       ]
      }
     ],
     "prompt_number": 4
    },
    {
     "cell_type": "heading",
     "level": 2,
     "metadata": {},
     "source": [
      "Basic metadata"
     ]
    },
    {
     "cell_type": "markdown",
     "metadata": {},
     "source": [
      "Retrieve some basic info such as the `geotransform` and the `projection`."
     ]
    },
    {
     "cell_type": "code",
     "collapsed": false,
     "input": [
      "td_bsq.geotransform"
     ],
     "language": "python",
     "metadata": {},
     "outputs": [
      {
       "metadata": {},
       "output_type": "pyout",
       "prompt_number": 33,
       "text": [
        "(145.0, 0.00025000000000000001, 0.0, -33.0, 0.0, -0.00025000000000000001)"
       ]
      }
     ],
     "prompt_number": 33
    },
    {
     "cell_type": "code",
     "collapsed": false,
     "input": [
      "td_bsq.projection"
     ],
     "language": "python",
     "metadata": {},
     "outputs": [
      {
       "metadata": {},
       "output_type": "pyout",
       "prompt_number": 6,
       "text": [
        "'GEOGCS[\"WGS 84\",DATUM[\"WGS_1984\",SPHEROID[\"WGS 84\",6378137,298.257223563,AUTHORITY[\"EPSG\",\"7030\"]],AUTHORITY[\"EPSG\",\"6326\"]],PRIMEM[\"Greenwich\",0],UNIT[\"degree\",0.0174532925199433],AUTHORITY[\"EPSG\",\"4326\"]]'"
       ]
      }
     ],
     "prompt_number": 6
    },
    {
     "cell_type": "markdown",
     "metadata": {},
     "source": [
      "Other info such as array dimensions"
     ]
    },
    {
     "cell_type": "code",
     "collapsed": false,
     "input": [
      "samples = td_bsq.samples\n",
      "lines = td_bsq.lines\n",
      "time_slices = td_bsq.time_slices\n",
      "print \"samples: {}\".format(samples)\n",
      "print \"lines: {}\".format(lines)\n",
      "print \"time_slices: {}\".format(time_slices)"
     ],
     "language": "python",
     "metadata": {},
     "outputs": [
      {
       "output_type": "stream",
       "stream": "stdout",
       "text": [
        "samples: 4000\n",
        "lines: 4000\n",
        "time_slices: 162\n"
       ]
      }
     ],
     "prompt_number": 5
    },
    {
     "cell_type": "markdown",
     "metadata": {},
     "source": [
      "The `TesseraDatasets.timestamps` is a `pandas.DataFrame` object."
     ]
    },
    {
     "cell_type": "code",
     "collapsed": false,
     "input": [
      "print td_bsq.timestamps.head(5)\n",
      "print td_bsq.timestamps.tail(5)"
     ],
     "language": "python",
     "metadata": {},
     "outputs": [
      {
       "output_type": "stream",
       "stream": "stdout",
       "text": [
        "                               idx\n",
        "2008-01-05 23:52:24.914425088    0\n",
        "2008-01-12 00:05:37.476069120    1\n",
        "2008-01-12 23:58:35.810649088    2\n",
        "2008-01-13 23:53:13.363063040    3\n",
        "2008-01-20 23:59:15.642087936    4\n",
        "                               idx\n",
        "2009-11-30 23:59:02.127362048  157\n",
        "2009-12-01 23:52:33.539056128  158\n",
        "2009-12-08 00:05:17.069192960  159\n",
        "2009-12-08 23:58:48.211049984  160\n",
        "2009-12-17 23:53:05.782063104  161\n"
       ]
      }
     ],
     "prompt_number": 6
    },
    {
     "cell_type": "heading",
     "level": 2,
     "metadata": {},
     "source": [
      "Some basic info on the chunk sizes for each `dataset`"
     ]
    },
    {
     "cell_type": "code",
     "collapsed": false,
     "input": [
      "bsq_chunks = td_bsq.dsets['BLUE'].chunks\n",
      "bil_chunks = td_bil.dsets['BLUE'].chunks\n",
      "print \"BSQ chunks: {}\".format(bsq_chunks)\n",
      "print \"BIL chunks: {}\".format(bil_chunks)"
     ],
     "language": "python",
     "metadata": {},
     "outputs": [
      {
       "output_type": "stream",
       "stream": "stdout",
       "text": [
        "BSQ chunks: (1, 100, 4000)\n",
        "BIL chunks: (162, 1, 4000)\n"
       ]
      }
     ],
     "prompt_number": 23
    },
    {
     "cell_type": "heading",
     "level": 2,
     "metadata": {},
     "source": [
      "Reading data"
     ]
    },
    {
     "cell_type": "markdown",
     "metadata": {},
     "source": [
      "The available `datasets`"
     ]
    },
    {
     "cell_type": "code",
     "collapsed": false,
     "input": [
      "td_bsq.dsets"
     ],
     "language": "python",
     "metadata": {},
     "outputs": [
      {
       "metadata": {},
       "output_type": "pyout",
       "prompt_number": 6,
       "text": [
        "{u'BLUE': <HDF5 dataset \"BLUE\": shape (162, 4000, 4000), type \"<i2\">,\n",
        " u'BS': <HDF5 dataset \"BS\": shape (162, 4000, 4000), type \"<i2\">,\n",
        " u'ERROR': <HDF5 dataset \"ERROR\": shape (162, 4000, 4000), type \"<i2\">,\n",
        " u'GREEN': <HDF5 dataset \"GREEN\": shape (162, 4000, 4000), type \"<i2\">,\n",
        " u'NEAR_INFRARED': <HDF5 dataset \"NEAR_INFRARED\": shape (162, 4000, 4000), type \"<i2\">,\n",
        " u'NPV': <HDF5 dataset \"NPV\": shape (162, 4000, 4000), type \"<i2\">,\n",
        " u'PQ': <HDF5 dataset \"PQ\": shape (162, 4000, 4000), type \"<u2\">,\n",
        " u'PV': <HDF5 dataset \"PV\": shape (162, 4000, 4000), type \"<i2\">,\n",
        " u'RED': <HDF5 dataset \"RED\": shape (162, 4000, 4000), type \"<i2\">,\n",
        " u'SHORT_WAVE_INFRARED_1': <HDF5 dataset \"SHORT_WAVE_INFRARED_1\": shape (162, 4000, 4000), type \"<i2\">,\n",
        " u'SHORT_WAVE_INFRARED_2': <HDF5 dataset \"SHORT_WAVE_INFRARED_2\": shape (162, 4000, 4000), type \"<i2\">}"
       ]
      }
     ],
     "prompt_number": 6
    },
    {
     "cell_type": "markdown",
     "metadata": {},
     "source": [
      "You can access the individual `datasets` using the available keys."
     ]
    },
    {
     "cell_type": "code",
     "collapsed": false,
     "input": [
      "td_bil.dsets.keys()"
     ],
     "language": "python",
     "metadata": {},
     "outputs": [
      {
       "metadata": {},
       "output_type": "pyout",
       "prompt_number": 7,
       "text": [
        "[u'BLUE',\n",
        " u'PQ',\n",
        " u'PV',\n",
        " u'BS',\n",
        " u'NEAR_INFRARED',\n",
        " u'SHORT_WAVE_INFRARED_2',\n",
        " u'SHORT_WAVE_INFRARED_1',\n",
        " u'GREEN',\n",
        " u'ERROR',\n",
        " u'NPV',\n",
        " u'RED']"
       ]
      }
     ],
     "prompt_number": 7
    },
    {
     "cell_type": "markdown",
     "metadata": {},
     "source": [
      "Let's tile the basic (y, x) structure of the array into (3, 3) arrays"
     ]
    },
    {
     "cell_type": "code",
     "collapsed": false,
     "input": [
      "tiles = generate_tiles(samples, lines, 3, 3, generator=False)"
     ],
     "language": "python",
     "metadata": {},
     "outputs": [],
     "prompt_number": 9
    },
    {
     "cell_type": "code",
     "collapsed": false,
     "input": [
      "print \"No. tiles: {}\".format(len(tiles))\n",
      "tile = tiles[40000]\n",
      "print tile"
     ],
     "language": "python",
     "metadata": {},
     "outputs": [
      {
       "output_type": "stream",
       "stream": "stdout",
       "text": [
        "No. tiles: 1779556\n",
        "((87, 90), (3942, 3945))\n"
       ]
      }
     ],
     "prompt_number": 10
    },
    {
     "cell_type": "markdown",
     "metadata": {},
     "source": [
      "Using the `timestamps DataFrame` we can create an index to select the timeslices of interest which is the `z-axis` for each `dataset.\n",
      "In this example we'll get the indixes associated with the first 16 days in Feb 2008."
     ]
    },
    {
     "cell_type": "code",
     "collapsed": false,
     "input": [
      "idx = td_bsq.timestamps['2008-02-01':'2008-02-16'].values.ravel()\n",
      "print idx"
     ],
     "language": "python",
     "metadata": {},
     "outputs": [
      {
       "output_type": "stream",
       "stream": "stdout",
       "text": [
        "[ 9 10 11 12 13]\n"
       ]
      }
     ],
     "prompt_number": 26
    },
    {
     "cell_type": "markdown",
     "metadata": {},
     "source": [
      "Let's have a look at the indices for just 2008."
     ]
    },
    {
     "cell_type": "code",
     "collapsed": false,
     "input": [
      "td_bsq.timestamps['2008'].values.ravel()"
     ],
     "language": "python",
     "metadata": {},
     "outputs": [
      {
       "metadata": {},
       "output_type": "pyout",
       "prompt_number": 27,
       "text": [
        "array([ 0,  1,  2,  3,  4,  5,  6,  7,  8,  9, 10, 11, 12, 13, 14, 15, 16,\n",
        "       17, 18, 19, 20, 21, 22, 23, 24, 25, 26, 27, 28, 29, 30, 31, 32, 33,\n",
        "       34, 35, 36, 37, 38, 39, 40, 41, 42, 43, 44, 45, 46, 47, 48, 49, 50,\n",
        "       51, 52, 53, 54, 55, 56, 57, 58, 59, 60, 61, 62, 63, 64, 65, 66, 67,\n",
        "       68, 69, 70, 71, 72, 73, 74, 75, 76, 77, 78, 79])"
       ]
      }
     ],
     "prompt_number": 27
    },
    {
     "cell_type": "markdown",
     "metadata": {},
     "source": [
      "How about for 2009?"
     ]
    },
    {
     "cell_type": "code",
     "collapsed": false,
     "input": [
      "td_bsq.timestamps['2009'].values.ravel()"
     ],
     "language": "python",
     "metadata": {},
     "outputs": [
      {
       "metadata": {},
       "output_type": "pyout",
       "prompt_number": 28,
       "text": [
        "array([ 80,  81,  82,  83,  84,  85,  86,  87,  88,  89,  90,  91,  92,\n",
        "        93,  94,  95,  96,  97,  98,  99, 100, 101, 102, 103, 104, 105,\n",
        "       106, 107, 108, 109, 110, 111, 112, 113, 114, 115, 116, 117, 118,\n",
        "       119, 120, 121, 122, 123, 124, 125, 126, 127, 128, 129, 130, 131,\n",
        "       132, 133, 134, 135, 136, 137, 138, 139, 140, 141, 142, 143, 144,\n",
        "       145, 146, 147, 148, 149, 150, 151, 152, 153, 154, 155, 156, 157,\n",
        "       158, 159, 160, 161])"
       ]
      }
     ],
     "prompt_number": 28
    },
    {
     "cell_type": "markdown",
     "metadata": {},
     "source": [
      "Read a (3, 3) tile for each timeslice as specified by the timeslice index `idx`."
     ]
    },
    {
     "cell_type": "code",
     "collapsed": false,
     "input": [
      "ys, ye = tile[0]\n",
      "xs, xe = tile[1]\n",
      "data = td_bil.dsets['PV'][idx, ys:ye, xs:xe]"
     ],
     "language": "python",
     "metadata": {},
     "outputs": [],
     "prompt_number": 13
    },
    {
     "cell_type": "code",
     "collapsed": false,
     "input": [
      "print \"array dimensions: {}\".format(data.shape)\n",
      "print data"
     ],
     "language": "python",
     "metadata": {},
     "outputs": [
      {
       "output_type": "stream",
       "stream": "stdout",
       "text": [
        "array dimensions: (5, 3, 3)\n",
        "[[[-999 -999 -999]\n",
        "  [-999 -999 -999]\n",
        "  [-999 -999 -999]]\n",
        "\n",
        " [[4262 4532 4396]\n",
        "  [4544 4327 4627]\n",
        "  [4782 4477 5172]]\n",
        "\n",
        " [[-999 -999 -999]\n",
        "  [-999 -999 -999]\n",
        "  [-999 -999 -999]]\n",
        "\n",
        " [[4519 4440 4540]\n",
        "  [4492 4452 4480]\n",
        "  [4511 4603 4427]]\n",
        "\n",
        " [[-999 -999 -999]\n",
        "  [-999 -999 -999]\n",
        "  [-999 -999 -999]]]\n"
       ]
      }
     ],
     "prompt_number": 14
    },
    {
     "cell_type": "heading",
     "level": 2,
     "metadata": {},
     "source": [
      "Some basic performance testing"
     ]
    },
    {
     "cell_type": "heading",
     "level": 3,
     "metadata": {},
     "source": [
      "Read the same time-index and (3, 3) tile/spatial block/chunk as before."
     ]
    },
    {
     "cell_type": "markdown",
     "metadata": {},
     "source": [
      "Test the `bil` then the `bsq`"
     ]
    },
    {
     "cell_type": "code",
     "collapsed": false,
     "input": [
      "%timeit -n 5 td_bil.dsets['PV'][idx, ys:ye, xs:xe]"
     ],
     "language": "python",
     "metadata": {},
     "outputs": [
      {
       "output_type": "stream",
       "stream": "stdout",
       "text": [
        "5 loops, best of 3: 13.8 ms per loop\n"
       ]
      }
     ],
     "prompt_number": 15
    },
    {
     "cell_type": "code",
     "collapsed": false,
     "input": [
      "%timeit -n 5 td_bsq.dsets['PV'][idx, ys:ye, xs:xe]"
     ],
     "language": "python",
     "metadata": {},
     "outputs": [
      {
       "output_type": "stream",
       "stream": "stdout",
       "text": [
        "5 loops, best of 3: 14.1 ms per loop\n"
       ]
      }
     ],
     "prompt_number": 16
    },
    {
     "cell_type": "heading",
     "level": 3,
     "metadata": {},
     "source": [
      "Read all timeslices for a single pixel"
     ]
    },
    {
     "cell_type": "markdown",
     "metadata": {},
     "source": [
      "Test the `bil` then the `bsq`"
     ]
    },
    {
     "cell_type": "code",
     "collapsed": false,
     "input": [
      "%timeit -n 10 td_bil.dsets['RED'][:, 666, 666]"
     ],
     "language": "python",
     "metadata": {},
     "outputs": [
      {
       "output_type": "stream",
       "stream": "stdout",
       "text": [
        "10 loops, best of 3: 4.13 ms per loop\n"
       ]
      }
     ],
     "prompt_number": 17
    },
    {
     "cell_type": "code",
     "collapsed": false,
     "input": [
      "%timeit -n 10 td_bsq.dsets['RED'][:, 666, 666]"
     ],
     "language": "python",
     "metadata": {},
     "outputs": [
      {
       "output_type": "stream",
       "stream": "stdout",
       "text": [
        "10 loops, best of 3: 343 ms per loop\n"
       ]
      }
     ],
     "prompt_number": 18
    },
    {
     "cell_type": "heading",
     "level": 3,
     "metadata": {},
     "source": [
      "Read a single timeslice over a spatial block"
     ]
    },
    {
     "cell_type": "markdown",
     "metadata": {},
     "source": [
      "Test the `bil` then the `bsq`"
     ]
    },
    {
     "cell_type": "code",
     "collapsed": false,
     "input": [
      "%timeit -n 3 td_bil.dsets['PV'][66, 1478:2956, 2478:3634]"
     ],
     "language": "python",
     "metadata": {},
     "outputs": [
      {
       "output_type": "stream",
       "stream": "stdout",
       "text": [
        "3 loops, best of 3: 5.84 s per loop\n"
       ]
      }
     ],
     "prompt_number": 19
    },
    {
     "cell_type": "code",
     "collapsed": false,
     "input": [
      "%timeit -n 5 td_bsq.dsets['PV'][66, 1478:2956, 2478:3634]"
     ],
     "language": "python",
     "metadata": {},
     "outputs": [
      {
       "output_type": "stream",
       "stream": "stdout",
       "text": [
        "5 loops, best of 3: 21.1 ms per loop\n"
       ]
      }
     ],
     "prompt_number": 20
    },
    {
     "cell_type": "code",
     "collapsed": false,
     "input": [
      "data = td_bsq.dsets['PV'][66, 1478:2956, 2478:3634]"
     ],
     "language": "python",
     "metadata": {},
     "outputs": [],
     "prompt_number": 21
    },
    {
     "cell_type": "code",
     "collapsed": false,
     "input": [
      "print \"array dimensions: {}\".format(data.shape)\n",
      "print data"
     ],
     "language": "python",
     "metadata": {},
     "outputs": [
      {
       "output_type": "stream",
       "stream": "stdout",
       "text": [
        "array dimensions: (1478, 1156)\n",
        "[[-999 -999 -999 ..., -999 -999 -999]\n",
        " [-999 -999 -999 ..., -999 -999 -999]\n",
        " [-999 -999 -999 ..., -999 -999 -999]\n",
        " ..., \n",
        " [-999 -999 -999 ..., -999 -999 -999]\n",
        " [-999 -999 -999 ..., -999 -999 -999]\n",
        " [-999 -999 -999 ..., -999 -999 -999]]\n"
       ]
      }
     ],
     "prompt_number": 22
    },
    {
     "cell_type": "code",
     "collapsed": false,
     "input": [],
     "language": "python",
     "metadata": {},
     "outputs": []
    }
   ],
   "metadata": {}
  }
 ]
}