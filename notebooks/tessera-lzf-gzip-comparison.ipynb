{
 "metadata": {
  "name": ""
 },
 "nbformat": 3,
 "nbformat_minor": 0,
 "worksheets": [
  {
   "cells": [
    {
     "cell_type": "heading",
     "level": 1,
     "metadata": {},
     "source": [
      "Compression testing and access through TesseraDatasets"
     ]
    },
    {
     "cell_type": "markdown",
     "metadata": {},
     "source": [
      "In this example HDF5 files were created, each containing 12 datasets such PQ, FC, NBAR and WATER. Each file used the same chunking parameters, as well as open ended z-axis allowing the appending of data to the z-axis only.\n",
      "\n",
      "The only difference is the type of compression used for the files. One used gzip and the other used lzf. This is just a quick comparison of the read access times, as well as simply demonstrating how to access the datasets, retrieve crs info, and use the `pandas.DataFrame` timestamps dataset to retrieve the band indices associated with a given date/dates, and use the indices to read exactly those time portions for a given spatial tile/block.\n",
      "\n",
      "The code used to create the files can be found at:\n",
      "https://github.com/sixy6e/tesseract/blob/josh-test/core/convert_dcube2hdf5.py"
     ]
    },
    {
     "cell_type": "code",
     "collapsed": false,
     "input": [
      "import numpy\n",
      "import h5py\n",
      "import pandas\n",
      "from pprint import pprint\n",
      "import sys\n",
      "sys.path.append('/home/547/jps547/git_repositories/sixy6e/tesseract/core/')\n",
      "from tessera2 import TesseraDatasets\n",
      "from eotools.tiling import generate_tiles"
     ],
     "language": "python",
     "metadata": {},
     "outputs": [],
     "prompt_number": 1
    },
    {
     "cell_type": "code",
     "collapsed": false,
     "input": [
      "lzf_fname = '/g/data/v10/testing_ground/jps547/file_tests/hdf5/cell_146_-34_LS5_LS7_lzf.h5'\n",
      "gzip_fname = '/g/data/v10/testing_ground/jps547/file_tests/hdf5/cell_146_-34_LS5_LS7_gzip.h5'"
     ],
     "language": "python",
     "metadata": {},
     "outputs": [],
     "prompt_number": 2
    },
    {
     "cell_type": "code",
     "collapsed": false,
     "input": [
      "td_lzf = TesseraDatasets(lzf_fname)\n",
      "td_gzip = TesseraDatasets(gzip_fname)"
     ],
     "language": "python",
     "metadata": {},
     "outputs": [],
     "prompt_number": 3
    },
    {
     "cell_type": "code",
     "collapsed": false,
     "input": [
      "dir(td_lzf)"
     ],
     "language": "python",
     "metadata": {},
     "outputs": [
      {
       "metadata": {},
       "output_type": "pyout",
       "prompt_number": 4,
       "text": [
        "['__class__',\n",
        " '__delattr__',\n",
        " '__dict__',\n",
        " '__doc__',\n",
        " '__format__',\n",
        " '__getattribute__',\n",
        " '__hash__',\n",
        " '__init__',\n",
        " '__module__',\n",
        " '__new__',\n",
        " '__reduce__',\n",
        " '__reduce_ex__',\n",
        " '__repr__',\n",
        " '__setattr__',\n",
        " '__sizeof__',\n",
        " '__str__',\n",
        " '__subclasshook__',\n",
        " '__weakref__',\n",
        " 'container',\n",
        " 'crs',\n",
        " 'crs_wkt',\n",
        " 'dsets',\n",
        " 'fname',\n",
        " 'geotransform',\n",
        " 'lines',\n",
        " 'metadata',\n",
        " 'samples',\n",
        " 'time_slices',\n",
        " 'timestamps']"
       ]
      }
     ],
     "prompt_number": 4
    },
    {
     "cell_type": "markdown",
     "metadata": {},
     "source": [
      "Basic metadata such as the image corner tie point, `CRS/projection` information as `Well Known Text` and `Proj4` styles."
     ]
    },
    {
     "cell_type": "code",
     "collapsed": false,
     "input": [
      "td_lzf.geotransform"
     ],
     "language": "python",
     "metadata": {},
     "outputs": [
      {
       "metadata": {},
       "output_type": "pyout",
       "prompt_number": 5,
       "text": [
        "(146.0, 0.00025000000000000001, 0.0, -33.0, 0.0, -0.00025000000000000001)"
       ]
      }
     ],
     "prompt_number": 5
    },
    {
     "cell_type": "code",
     "collapsed": false,
     "input": [
      "print \"Wkt style: \\n{}\\n\".format(td_lzf.crs_wkt)\n",
      "print \"Proj4 style: \\n{}\".format(td_lzf.crs)"
     ],
     "language": "python",
     "metadata": {},
     "outputs": [
      {
       "output_type": "stream",
       "stream": "stdout",
       "text": [
        "Wkt style: \n",
        "GEOGCS[\"WGS 84\",DATUM[\"WGS_1984\",SPHEROID[\"WGS 84\",6378137,298.257223563,AUTHORITY[\"EPSG\",\"7030\"]],AUTHORITY[\"EPSG\",\"6326\"]],PRIMEM[\"Greenwich\",0],UNIT[\"degree\",0.0174532925199433],AUTHORITY[\"EPSG\",\"4326\"]]\n",
        "\n",
        "Proj4 style: \n",
        "+proj=longlat +datum=WGS84 +no_defs \n"
       ]
      }
     ],
     "prompt_number": 6
    },
    {
     "cell_type": "markdown",
     "metadata": {},
     "source": [
      "Array dimensions"
     ]
    },
    {
     "cell_type": "code",
     "collapsed": false,
     "input": [
      "print \"x/array witdh: {}\".format(td_lzf.samples)\n",
      "print \"y/array height: {}\".format(td_lzf.lines)\n",
      "print \"z/array depth: {}\".format(td_lzf.time_slices)"
     ],
     "language": "python",
     "metadata": {},
     "outputs": [
      {
       "output_type": "stream",
       "stream": "stdout",
       "text": [
        "x/array witdh: 4000\n",
        "y/array height: 4000\n",
        "z/array depth: 1060\n"
       ]
      }
     ],
     "prompt_number": 7
    },
    {
     "cell_type": "markdown",
     "metadata": {},
     "source": [
      "What `datasets` are available for reading."
     ]
    },
    {
     "cell_type": "code",
     "collapsed": false,
     "input": [
      "print \"Available datasets:\\n\"\n",
      "pprint(td_lzf.dsets.keys())"
     ],
     "language": "python",
     "metadata": {},
     "outputs": [
      {
       "output_type": "stream",
       "stream": "stdout",
       "text": [
        "Available datasets:\n",
        "\n",
        "[u'BLUE',\n",
        " u'WATER',\n",
        " u'PQ',\n",
        " u'PHOTOSYNTHETIC_VEGETATION',\n",
        " u'BARE_SOIL',\n",
        " u'NEAR_INFRARED',\n",
        " u'SHORT_WAVE_INFRARED_2',\n",
        " u'SHORT_WAVE_INFRARED_1',\n",
        " u'GREEN',\n",
        " u'UNMIXING_ERROR',\n",
        " u'NON_PHOTOSYNTHETIC_VEGETATION',\n",
        " u'RED']\n"
       ]
      }
     ],
     "prompt_number": 8
    },
    {
     "cell_type": "markdown",
     "metadata": {},
     "source": [
      "The first 5 timeslices in the container."
     ]
    },
    {
     "cell_type": "code",
     "collapsed": false,
     "input": [
      "print td_lzf.timestamps.head(5)"
     ],
     "language": "python",
     "metadata": {},
     "outputs": [
      {
       "output_type": "stream",
       "stream": "stdout",
       "text": [
        "                               idx\n",
        "1987-05-27 23:26:12.301081024    0\n",
        "1987-05-27 23:26:36.337075008    1\n",
        "1987-08-31 23:28:57.183019008    2\n",
        "1987-09-16 23:28:57.087081024    3\n",
        "1987-10-02 23:29:42.017056       4\n"
       ]
      }
     ],
     "prompt_number": 9
    },
    {
     "cell_type": "markdown",
     "metadata": {},
     "source": [
      "The last 5 timeslices in the container"
     ]
    },
    {
     "cell_type": "code",
     "collapsed": false,
     "input": [
      "print td_lzf.timestamps.tail(5)"
     ],
     "language": "python",
     "metadata": {},
     "outputs": [
      {
       "output_type": "stream",
       "stream": "stdout",
       "text": [
        "                      idx\n",
        "2014-11-22 00:00:20  1055\n",
        "2014-11-29 00:06:35  1056\n",
        "2014-12-08 00:00:27  1057\n",
        "2014-12-15 00:06:43  1058\n",
        "2014-12-31 00:06:44  1059\n"
       ]
      }
     ],
     "prompt_number": 10
    },
    {
     "cell_type": "markdown",
     "metadata": {},
     "source": [
      "Chunk dimensions"
     ]
    },
    {
     "cell_type": "code",
     "collapsed": false,
     "input": [
      "lzf_chunks = td_lzf.dsets['BLUE'].chunks\n",
      "gzip_chunks = td_gzip.dsets['BLUE'].chunks\n",
      "print \"lzf chunks: {}\".format(lzf_chunks)\n",
      "print \"gzip chunks: {}\".format(gzip_chunks)"
     ],
     "language": "python",
     "metadata": {},
     "outputs": [
      {
       "output_type": "stream",
       "stream": "stdout",
       "text": [
        "lzf chunks: (32, 128, 128)\n",
        "gzip chunks: (32, 128, 128)\n"
       ]
      }
     ],
     "prompt_number": 11
    },
    {
     "cell_type": "markdown",
     "metadata": {},
     "source": [
      "Create some spatial blocks that fit exactly to the x & y chunk dimensions"
     ]
    },
    {
     "cell_type": "code",
     "collapsed": false,
     "input": [
      "tiles = generate_tiles(td_lzf.samples, td_lzf.lines, lzf_chunks[2], lzf_chunks[1], generator=False)"
     ],
     "language": "python",
     "metadata": {},
     "outputs": [],
     "prompt_number": 12
    },
    {
     "cell_type": "code",
     "collapsed": false,
     "input": [
      "print \"No. of spatial tiles: {}\".format(len(tiles))"
     ],
     "language": "python",
     "metadata": {},
     "outputs": [
      {
       "output_type": "stream",
       "stream": "stdout",
       "text": [
        "No. of spatial tiles: 1024\n"
       ]
      }
     ],
     "prompt_number": 13
    },
    {
     "cell_type": "code",
     "collapsed": false,
     "input": [
      "print \"666th spatial tile: {}\".format(tiles[665])"
     ],
     "language": "python",
     "metadata": {},
     "outputs": [
      {
       "output_type": "stream",
       "stream": "stdout",
       "text": [
        "666th spatial tile: ((2560, 2688), (3200, 3328))\n"
       ]
      }
     ],
     "prompt_number": 14
    },
    {
     "cell_type": "markdown",
     "metadata": {},
     "source": [
      "Create some depth chunks that fit to the z chunk dimension"
     ]
    },
    {
     "cell_type": "code",
     "collapsed": false,
     "input": [
      "z_tiles = generate_tiles(td_lzf.time_slices, 1, lzf_chunks[0], 1, generator=False)\n",
      "z_tiles = [chunk[1] for chunk in z_tiles]"
     ],
     "language": "python",
     "metadata": {},
     "outputs": [],
     "prompt_number": 15
    },
    {
     "cell_type": "code",
     "collapsed": false,
     "input": [
      "print \"No. of depth tiles: {}\".format(len(z_tiles))"
     ],
     "language": "python",
     "metadata": {},
     "outputs": [
      {
       "output_type": "stream",
       "stream": "stdout",
       "text": [
        "No. of depth tiles: 34\n"
       ]
      }
     ],
     "prompt_number": 16
    },
    {
     "cell_type": "code",
     "collapsed": false,
     "input": [
      "print \"16th depth tile: {}\".format(z_tiles[15])"
     ],
     "language": "python",
     "metadata": {},
     "outputs": [
      {
       "output_type": "stream",
       "stream": "stdout",
       "text": [
        "16th depth tile: (480, 512)\n"
       ]
      }
     ],
     "prompt_number": 17
    },
    {
     "cell_type": "markdown",
     "metadata": {},
     "source": [
      "Timestamps associated with the 16th chunk"
     ]
    },
    {
     "cell_type": "code",
     "collapsed": false,
     "input": [
      "td_lzf.timestamps[480:512]"
     ],
     "language": "python",
     "metadata": {},
     "outputs": [
      {
       "html": [
        "<div style=\"max-height:1000px;max-width:1500px;overflow:auto;\">\n",
        "<table border=\"1\" class=\"dataframe\">\n",
        "  <thead>\n",
        "    <tr style=\"text-align: right;\">\n",
        "      <th></th>\n",
        "      <th>idx</th>\n",
        "    </tr>\n",
        "  </thead>\n",
        "  <tbody>\n",
        "    <tr>\n",
        "      <th>2003-07-26 23:38:41.211063040</th>\n",
        "      <td> 480</td>\n",
        "    </tr>\n",
        "    <tr>\n",
        "      <th>2003-08-02 23:44:59.806081024</th>\n",
        "      <td> 481</td>\n",
        "    </tr>\n",
        "    <tr>\n",
        "      <th>2003-08-03 23:50:27.568519936</th>\n",
        "      <td> 482</td>\n",
        "    </tr>\n",
        "    <tr>\n",
        "      <th>2003-08-10 23:56:38.321940992</th>\n",
        "      <td> 483</td>\n",
        "    </tr>\n",
        "    <tr>\n",
        "      <th>2003-08-18 23:45:15.750024960</th>\n",
        "      <td> 484</td>\n",
        "    </tr>\n",
        "    <tr>\n",
        "      <th>2003-08-19 23:50:27.754201984</th>\n",
        "      <td> 485</td>\n",
        "    </tr>\n",
        "    <tr>\n",
        "      <th>2003-08-26 23:56:36.867854976</th>\n",
        "      <td> 486</td>\n",
        "    </tr>\n",
        "    <tr>\n",
        "      <th>2003-08-27 23:39:15.255088</th>\n",
        "      <td> 487</td>\n",
        "    </tr>\n",
        "    <tr>\n",
        "      <th>2003-09-03 23:45:32.195094016</th>\n",
        "      <td> 488</td>\n",
        "    </tr>\n",
        "    <tr>\n",
        "      <th>2003-09-12 23:39:31.534087936</th>\n",
        "      <td> 489</td>\n",
        "    </tr>\n",
        "    <tr>\n",
        "      <th>2003-09-19 23:45:48.818093952</th>\n",
        "      <td> 490</td>\n",
        "    </tr>\n",
        "    <tr>\n",
        "      <th>2003-09-27 23:56:25.674208</th>\n",
        "      <td> 491</td>\n",
        "    </tr>\n",
        "    <tr>\n",
        "      <th>2003-10-05 23:46:24.803012992</th>\n",
        "      <td> 492</td>\n",
        "    </tr>\n",
        "    <tr>\n",
        "      <th>2003-10-06 23:50:12.218262016</th>\n",
        "      <td> 493</td>\n",
        "    </tr>\n",
        "    <tr>\n",
        "      <th>2003-10-13 23:56:22.735971968</th>\n",
        "      <td> 494</td>\n",
        "    </tr>\n",
        "    <tr>\n",
        "      <th>2003-10-22 23:50:23.076765056</th>\n",
        "      <td> 495</td>\n",
        "    </tr>\n",
        "    <tr>\n",
        "      <th>2003-11-06 23:46:17.588075008</th>\n",
        "      <td> 496</td>\n",
        "    </tr>\n",
        "    <tr>\n",
        "      <th>2003-11-07 23:50:30.796654976</th>\n",
        "      <td> 497</td>\n",
        "    </tr>\n",
        "    <tr>\n",
        "      <th>2003-11-15 23:40:21.434030976</th>\n",
        "      <td> 498</td>\n",
        "    </tr>\n",
        "    <tr>\n",
        "      <th>2003-11-30 23:56:54.279895040</th>\n",
        "      <td> 499</td>\n",
        "    </tr>\n",
        "    <tr>\n",
        "      <th>2003-12-08 23:46:44.772024960</th>\n",
        "      <td> 500</td>\n",
        "    </tr>\n",
        "    <tr>\n",
        "      <th>2003-12-09 23:50:47.728668032</th>\n",
        "      <td> 501</td>\n",
        "    </tr>\n",
        "    <tr>\n",
        "      <th>2003-12-16 23:57:01.710006016</th>\n",
        "      <td> 502</td>\n",
        "    </tr>\n",
        "    <tr>\n",
        "      <th>2003-12-17 23:40:40.484013056</th>\n",
        "      <td> 503</td>\n",
        "    </tr>\n",
        "    <tr>\n",
        "      <th>2003-12-24 23:46:56.326055936</th>\n",
        "      <td> 504</td>\n",
        "    </tr>\n",
        "    <tr>\n",
        "      <th>2003-12-25 23:50:56.397879040</th>\n",
        "      <td> 505</td>\n",
        "    </tr>\n",
        "    <tr>\n",
        "      <th>2004-01-01 23:57:33.032961024</th>\n",
        "      <td> 506</td>\n",
        "    </tr>\n",
        "    <tr>\n",
        "      <th>2004-01-02 23:40:48.596062976</th>\n",
        "      <td> 507</td>\n",
        "    </tr>\n",
        "    <tr>\n",
        "      <th>2004-01-09 23:47:00.276024960</th>\n",
        "      <td> 508</td>\n",
        "    </tr>\n",
        "    <tr>\n",
        "      <th>2004-01-10 23:50:58.667847936</th>\n",
        "      <td> 509</td>\n",
        "    </tr>\n",
        "    <tr>\n",
        "      <th>2004-01-18 23:40:50.653037952</th>\n",
        "      <td> 510</td>\n",
        "    </tr>\n",
        "    <tr>\n",
        "      <th>2004-01-25 23:47:04.590050048</th>\n",
        "      <td> 511</td>\n",
        "    </tr>\n",
        "  </tbody>\n",
        "</table>\n",
        "</div>"
       ],
       "metadata": {},
       "output_type": "pyout",
       "prompt_number": 18,
       "text": [
        "                               idx\n",
        "2003-07-26 23:38:41.211063040  480\n",
        "2003-08-02 23:44:59.806081024  481\n",
        "2003-08-03 23:50:27.568519936  482\n",
        "2003-08-10 23:56:38.321940992  483\n",
        "2003-08-18 23:45:15.750024960  484\n",
        "2003-08-19 23:50:27.754201984  485\n",
        "2003-08-26 23:56:36.867854976  486\n",
        "2003-08-27 23:39:15.255088     487\n",
        "2003-09-03 23:45:32.195094016  488\n",
        "2003-09-12 23:39:31.534087936  489\n",
        "2003-09-19 23:45:48.818093952  490\n",
        "2003-09-27 23:56:25.674208     491\n",
        "2003-10-05 23:46:24.803012992  492\n",
        "2003-10-06 23:50:12.218262016  493\n",
        "2003-10-13 23:56:22.735971968  494\n",
        "2003-10-22 23:50:23.076765056  495\n",
        "2003-11-06 23:46:17.588075008  496\n",
        "2003-11-07 23:50:30.796654976  497\n",
        "2003-11-15 23:40:21.434030976  498\n",
        "2003-11-30 23:56:54.279895040  499\n",
        "2003-12-08 23:46:44.772024960  500\n",
        "2003-12-09 23:50:47.728668032  501\n",
        "2003-12-16 23:57:01.710006016  502\n",
        "2003-12-17 23:40:40.484013056  503\n",
        "2003-12-24 23:46:56.326055936  504\n",
        "2003-12-25 23:50:56.397879040  505\n",
        "2004-01-01 23:57:33.032961024  506\n",
        "2004-01-02 23:40:48.596062976  507\n",
        "2004-01-09 23:47:00.276024960  508\n",
        "2004-01-10 23:50:58.667847936  509\n",
        "2004-01-18 23:40:50.653037952  510\n",
        "2004-01-25 23:47:04.590050048  511"
       ]
      }
     ],
     "prompt_number": 18
    },
    {
     "cell_type": "markdown",
     "metadata": {},
     "source": [
      "Depth indices/band numbers associated with the specified date (Feb to end of March)"
     ]
    },
    {
     "cell_type": "code",
     "collapsed": false,
     "input": [
      "idx = td_lzf.timestamps['2008-02-01':'2008-03-30'].values.ravel()\n",
      "print idx"
     ],
     "language": "python",
     "metadata": {},
     "outputs": [
      {
       "output_type": "stream",
       "stream": "stdout",
       "text": [
        "[769 770 771 772 773 774 775 776 777 778 779 780]\n"
       ]
      }
     ],
     "prompt_number": 19
    },
    {
     "cell_type": "markdown",
     "metadata": {},
     "source": [
      "Depth indices/band numbers associated with the year 2008"
     ]
    },
    {
     "cell_type": "code",
     "collapsed": false,
     "input": [
      "td_lzf.timestamps['2008'].values.ravel()"
     ],
     "language": "python",
     "metadata": {},
     "outputs": [
      {
       "metadata": {},
       "output_type": "pyout",
       "prompt_number": 20,
       "text": [
        "array([762, 763, 764, 765, 766, 767, 768, 769, 770, 771, 772, 773, 774,\n",
        "       775, 776, 777, 778, 779, 780, 781, 782, 783, 784, 785, 786, 787,\n",
        "       788, 789, 790, 791, 792, 793, 794, 795, 796, 797, 798, 799, 800,\n",
        "       801, 802, 803, 804, 805, 806, 807, 808, 809, 810, 811, 812, 813,\n",
        "       814, 815])"
       ]
      }
     ],
     "prompt_number": 20
    },
    {
     "cell_type": "markdown",
     "metadata": {},
     "source": [
      "Define the start and end index locations for each dimension and read the data for the `GREEN` band."
     ]
    },
    {
     "cell_type": "code",
     "collapsed": false,
     "input": [
      "tile = tiles[665]\n",
      "ys, ye = tile[0]\n",
      "xs, xe = tile[1]\n",
      "zs, ze = z_tiles[15]"
     ],
     "language": "python",
     "metadata": {},
     "outputs": [],
     "prompt_number": 21
    },
    {
     "cell_type": "code",
     "collapsed": false,
     "input": [
      "data = td_lzf.dsets['GREEN'][idx, ys:ye, xs:xe]"
     ],
     "language": "python",
     "metadata": {},
     "outputs": [],
     "prompt_number": 22
    },
    {
     "cell_type": "heading",
     "level": 3,
     "metadata": {},
     "source": [
      "Some performance comparisons between `gzip` and `lzf` compression algorithms."
     ]
    },
    {
     "cell_type": "markdown",
     "metadata": {},
     "source": [
      "All depth/time for a single spatial tile which matches an actual chunked block"
     ]
    },
    {
     "cell_type": "code",
     "collapsed": false,
     "input": [
      "%timeit td_lzf.dsets['GREEN'][:, ys:ye, xs:xe]"
     ],
     "language": "python",
     "metadata": {},
     "outputs": [
      {
       "output_type": "stream",
       "stream": "stdout",
       "text": [
        "1 loops, best of 3: 73.3 ms per loop\n"
       ]
      }
     ],
     "prompt_number": 23
    },
    {
     "cell_type": "code",
     "collapsed": false,
     "input": [
      "%timeit td_gzip.dsets['GREEN'][:, ys:ye, xs:xe]"
     ],
     "language": "python",
     "metadata": {},
     "outputs": [
      {
       "output_type": "stream",
       "stream": "stdout",
       "text": [
        "1 loops, best of 3: 116 ms per loop\n"
       ]
      }
     ],
     "prompt_number": 24
    },
    {
     "cell_type": "markdown",
     "metadata": {},
     "source": [
      "All x & y dimensions for the 16th depth tile/chunk"
     ]
    },
    {
     "cell_type": "code",
     "collapsed": false,
     "input": [
      "%timeit td_lzf.dsets['GREEN'][zs:ze, :, :]"
     ],
     "language": "python",
     "metadata": {},
     "outputs": [
      {
       "output_type": "stream",
       "stream": "stdout",
       "text": [
        "1 loops, best of 3: 2.83 s per loop\n"
       ]
      }
     ],
     "prompt_number": 25
    },
    {
     "cell_type": "code",
     "collapsed": false,
     "input": [
      "%timeit td_gzip.dsets['GREEN'][zs:ze, :, :]"
     ],
     "language": "python",
     "metadata": {},
     "outputs": [
      {
       "output_type": "stream",
       "stream": "stdout",
       "text": [
        "1 loops, best of 3: 4 s per loop\n"
       ]
      }
     ],
     "prompt_number": 26
    },
    {
     "cell_type": "markdown",
     "metadata": {},
     "source": [
      "All x & y dimensions for the year 2008"
     ]
    },
    {
     "cell_type": "code",
     "collapsed": false,
     "input": [
      "idx = td_lzf.timestamps['2008'].values.ravel()"
     ],
     "language": "python",
     "metadata": {},
     "outputs": [],
     "prompt_number": 27
    },
    {
     "cell_type": "code",
     "collapsed": false,
     "input": [
      "%timeit td_lzf.dsets['GREEN'][idx, :, :]"
     ],
     "language": "python",
     "metadata": {},
     "outputs": [
      {
       "output_type": "stream",
       "stream": "stdout",
       "text": [
        "1 loops, best of 3: 7.91 s per loop\n"
       ]
      }
     ],
     "prompt_number": 28
    },
    {
     "cell_type": "code",
     "collapsed": false,
     "input": [
      "%timeit td_gzip.dsets['GREEN'][idx, :, :]"
     ],
     "language": "python",
     "metadata": {},
     "outputs": [
      {
       "output_type": "stream",
       "stream": "stdout",
       "text": [
        "1 loops, best of 3: 11.5 s per loop\n"
       ]
      }
     ],
     "prompt_number": 29
    },
    {
     "cell_type": "code",
     "collapsed": false,
     "input": [],
     "language": "python",
     "metadata": {},
     "outputs": []
    }
   ],
   "metadata": {}
  }
 ]
}