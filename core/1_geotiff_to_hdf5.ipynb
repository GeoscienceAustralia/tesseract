{
 "cells": [
  {
   "cell_type": "markdown",
   "metadata": {},
   "source": [
    "### This script aggregates together geoTIFFs by year into a 4-dimensional HDF5 [time, X, Y, bands]"
   ]
  },
  {
   "cell_type": "markdown",
   "metadata": {},
   "source": [
    "*(This code should be run in Raijin as paths refer to locations where the geotiffs are)*"
   ]
  },
  {
   "cell_type": "markdown",
   "metadata": {},
   "source": [
    "#### Import libraries and define bounds for the conversion, destination path for the output files and product and \"constants\""
   ]
  },
  {
   "cell_type": "markdown",
   "metadata": {},
   "source": [
    "*(This example converts Landsat7 data. Similar scripts can be created for other Landsat satellites just modifying the paths to the source data)*"
   ]
  },
  {
   "cell_type": "code",
   "execution_count": null,
   "metadata": {
    "collapsed": false
   },
   "outputs": [],
   "source": [
    "import numpy as np\n",
    "import h5py\n",
    "from osgeo import gdal\n",
    "import glob\n",
    "import os.path\n",
    "from datetime import datetime\n",
    "import time\n",
    "\n",
    "years = range(1987, 2015)\n",
    "lats = range(-31, -25)\n",
    "lons = range(147, 152)\n",
    "path = \"/g/data/v10/HPCData/test/\"\n",
    "product = \"NBAR\""
   ]
  },
  {
   "cell_type": "markdown",
   "metadata": {},
   "source": [
    "#### Loop over bounds accumulating values in cube ndarray and writing to a HDF5 using chunking and 'lzf' compression"
   ]
  },
  {
   "cell_type": "markdown",
   "metadata": {},
   "source": [
    "*(Each file contains a cube [1 year, 1 degree, 1 degree, all bands])*\n",
    "*(units for each dimension are [time epoch, EPSG 4326, EPSG 4326, integer)*"
   ]
  },
  {
   "cell_type": "code",
   "execution_count": null,
   "metadata": {
    "collapsed": false
   },
   "outputs": [],
   "source": [
    "for lon in lons:\n",
    "    for lat in lats:\n",
    "        for year in years:\n",
    "            if not os.path.isfile(path + \"LS7_ETM_NBAR_{0}_{1:04d}_{2}.h5\".format(lon, lat, year)):\n",
    "                if os.path.isdir(\"/g/data/rs0/tiles/EPSG4326_1deg_0.00025pixel/LS7_ETM/{lon:03d}_{lat:04d}/{year}/\".format(lon=lon, lat=lat, year=year)):\n",
    "\n",
    "                    nbar_tiffs = glob.glob(\"/g/data/rs0/tiles/EPSG4326_1deg_0.00025pixel/LS7_ETM/{lon:03d}_{lat:04d}/{year}/*\" + product + \"*.tif\".format(lon=lon, lat=lat, year=year))\n",
    "\n",
    "                    if len(nbar_tiffs) > 0:\n",
    "\n",
    "                        nbar_tiffs = sorted(nbar_tiffs)\n",
    "                        with h5py.File(path + 'LS7_ETM_' + product + '_{lon:03d}_{lat:04d}_{year}.h5'.format(lon=lon, lat=lat, year=year), 'w') as h5f:\n",
    "\n",
    "                            cube = None\n",
    "\n",
    "                            time_dim = np.zeros(shape=len(nbar_tiffs), dtype=np.float64)\n",
    "\n",
    "                            for i, tiff in enumerate(nbar_tiffs):\n",
    "                                print tiff\n",
    "                                img_params = tiff[:-4].split('/')[-1].split('_')\n",
    "                                print img_params[5]\n",
    "                                if len(img_params[5]) == 19:\n",
    "                                    img_params[5] = img_params[5] + '.000000'\n",
    "                                d = datetime.strptime(img_params[5], '%Y-%m-%dT%H-%M-%S.%f')\n",
    "                                posix = time.mktime(d.timetuple()) + (np.float64(d.microsecond)/1000000)\n",
    "                                time_dim[i] = posix\n",
    "\n",
    "                                image = gdal.Open(tiff)\n",
    "\n",
    "                                for band in range(image.RasterCount):\n",
    "                                    print(\"{}_{}\".format(tiff, band+1))\n",
    "                                    if band == 0:\n",
    "                                        band_pack = np.array(image.GetRasterBand(band+1).ReadAsArray())\n",
    "                                    else:\n",
    "                                        band_pack = np.dstack((band_pack, np.array(image.GetRasterBand(band+1).ReadAsArray())))\n",
    "\n",
    "                                if cube is None:\n",
    "                                    cube = band_pack[np.newaxis,:]\n",
    "                                else:\n",
    "                                    cube = np.concatenate((cube, band_pack[np.newaxis,:]), axis=0)\n",
    "                            \n",
    "                            ds = h5f.create_dataset(product, data=cube, compression='lzf', chunks=(len(nbar_tiffs), 100, 100, 6))\n",
    "                            \n",
    "                            ds.attrs['source'] = \"LS7\"\n",
    "                            ds.attrs['axes'] = [\"time\", \"x\", \"y\", \"product\"]\n",
    "                            \n",
    "                            h5f.create_dataset('x', data=np.arange(4000, dtype=np.float64)*0.00025+lon)\n",
    "                            h5f.create_dataset('y', data=np.arange(4000, dtype=np.float64)*0.00025+lat)\n",
    "                            h5f.create_dataset('product', data=np.array(['NBAR_0', 'NBAR_1', 'NBAR_2',\n",
    "                                                                         'NBAR_3', 'NBAR_4', 'NBAR_5'], dtype='|S20'))\n",
    "                            h5f.create_dataset('time', data=time_dim)\n",
    "                            \n",
    "                            ds.dims.create_scale(h5f['x'], \"WGS84 Longitude\")\n",
    "                            ds.dims.create_scale(h5f['y'], \"WGS84 Latitude\")\n",
    "                            ds.dims.create_scale(h5f['product'], \"Product Names\")\n",
    "                            ds.dims.create_scale(h5f['time'], \"POSIX Time Since Epoch\")\n",
    "\n",
    "                            ds.dims[0].attach_scale(h5f['time'])\n",
    "                            ds.dims[0].label('time')\n",
    "                            ds.dims[1].attach_scale(h5f['x'])\n",
    "                            ds.dims[1].label('x')\n",
    "                            ds.dims[2].attach_scale(h5f['y']\n",
    "                            ds.dims[2].label('y')\n",
    "                            ds.dims[3].attach_scale(h5f['product'])\n",
    "                            ds.dims[3].label('product')"
   ]
  },
  {
   "cell_type": "code",
   "execution_count": null,
   "metadata": {
    "collapsed": false
   },
   "outputs": [],
   "source": []
  }
 ],
 "metadata": {
  "kernelspec": {
   "display_name": "Python 2",
   "language": "python",
   "name": "python2"
  },
  "language_info": {
   "codemirror_mode": {
    "name": "ipython",
    "version": 2
   },
   "file_extension": ".py",
   "mimetype": "text/x-python",
   "name": "python",
   "nbconvert_exporter": "python",
   "pygments_lexer": "ipython2",
   "version": "2.7.8"
  },
  "name": "DataCubePacker.ipynb"
 },
 "nbformat": 4,
 "nbformat_minor": 0
}
